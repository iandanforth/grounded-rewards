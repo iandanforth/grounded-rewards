{
 "cells": [
  {
   "cell_type": "markdown",
   "metadata": {},
   "source": [
    "# Grounded Rewards"
   ]
  },
  {
   "cell_type": "code",
   "execution_count": 1,
   "metadata": {},
   "outputs": [],
   "source": [
    "import ipywidgets as widgets\n",
    "from traitlets import Dict, Unicode, validate\n",
    "\n",
    "class Display(widgets.DOMWidget):\n",
    "    _view_name = Unicode('Display').tag(sync=True)\n",
    "    _view_module = Unicode('display').tag(sync=True)\n",
    "    _view_module_version = Unicode('0.1.0').tag(sync=True)\n",
    "    state = Dict({\"values\": []}).tag(sync=True)"
   ]
  },
  {
   "cell_type": "code",
   "execution_count": 2,
   "metadata": {},
   "outputs": [
    {
     "data": {
      "application/javascript": [
       "// Reset the loader's internal state to forget about the previous definition of the module\n",
       "require.undef('display');\n",
       "\n",
       "require.config({\n",
       "  //Define 3rd party plugins dependencies\n",
       "  paths: {\n",
       "    fabric: \"https://cdnjs.cloudflare.com/ajax/libs/fabric.js/2.7.0/fabric.min\"\n",
       "  }\n",
       "});\n",
       "\n",
       "define('display', [\"@jupyter-widgets/base\", \"fabric\"], function(widgets, fabric) {\n",
       "\n",
       "    var Display = widgets.DOMWidgetView.extend({\n",
       "\n",
       "        render: function() {\n",
       "            const canvas = document.createElement('canvas');\n",
       "            canvas.id = 'canvas';\n",
       "            canvas.width = 1000;\n",
       "            canvas.height = 500;\n",
       "            var ctx = canvas.getContext(\"2d\");\n",
       "            ctx.fillStyle = \"blue\";\n",
       "            ctx.fillRect(0, 0, canvas.width, canvas.height);\n",
       "            this.el.appendChild(canvas);\n",
       "\n",
       "            const fabricCanvas = new fabric.Canvas(canvas);\n",
       "\n",
       "            // Create a starting rect (useful to see something is working)\n",
       "            const shape = new fabric.Circle({\n",
       "                top : 100,\n",
       "                left : 100,\n",
       "                radius : 20,\n",
       "                fill : '#5BC8F7'\n",
       "            });\n",
       "\n",
       "            fabricCanvas.add(shape);\n",
       "            \n",
       "            // Create a list of objects to re-use\n",
       "            const shapes = [shape];\n",
       "            \n",
       "            // Set up our listener\n",
       "            const onStateChanged = this.handleStateChanged.bind(this, fabricCanvas, shapes);\n",
       "            this.model.on('change:state', onStateChanged);\n",
       "        },\n",
       "        \n",
       "        handleStateChanged: function(fabricCanvas, shapes) {\n",
       "            const vals = this.model.get('state').values;\n",
       "            \n",
       "            for (let i=0; i < vals.length; i++) {\n",
       "                let shape;\n",
       "                // Create a new shape if our list of vals has increased in length\n",
       "                if (shapes[i] === undefined) {\n",
       "                    shape = new fabric.Circle({\n",
       "                        top : 100,\n",
       "                        left : 100,\n",
       "                        radius : 20,\n",
       "                        fill : '#F6C7BE'\n",
       "                    });\n",
       "                    fabricCanvas.add(shape);\n",
       "                    shapes.push(shape);\n",
       "                } else {\n",
       "                    shape = shapes[i];\n",
       "                }\n",
       "                // Update the shape to the correct location\n",
       "                const top = vals[i];\n",
       "                const left = 500 - (i * (shape.radius * 3));\n",
       "                shape.set({\n",
       "                    top,\n",
       "                    left\n",
       "                });\n",
       "                \n",
       "            }\n",
       "            \n",
       "            // Render all rects;\n",
       "            fabricCanvas.renderAll();\n",
       "        }\n",
       "    });\n",
       "\n",
       "    return {\n",
       "        Display\n",
       "    };\n",
       "});"
      ],
      "text/plain": [
       "<IPython.core.display.Javascript object>"
      ]
     },
     "metadata": {},
     "output_type": "display_data"
    }
   ],
   "source": [
    "%%javascript\n",
    "// Reset the loader's internal state to forget about the previous definition of the module\n",
    "require.undef('display');\n",
    "\n",
    "require.config({\n",
    "  //Define 3rd party plugins dependencies\n",
    "  paths: {\n",
    "    fabric: \"https://cdnjs.cloudflare.com/ajax/libs/fabric.js/2.7.0/fabric.min\"\n",
    "  }\n",
    "});\n",
    "\n",
    "define('display', [\"@jupyter-widgets/base\", \"fabric\"], function(widgets, fabric) {\n",
    "\n",
    "    var Display = widgets.DOMWidgetView.extend({\n",
    "\n",
    "        render: function() {\n",
    "            const canvas = document.createElement('canvas');\n",
    "            canvas.id = 'canvas';\n",
    "            canvas.width = 1000;\n",
    "            canvas.height = 500;\n",
    "            var ctx = canvas.getContext(\"2d\");\n",
    "            ctx.fillStyle = \"blue\";\n",
    "            ctx.fillRect(0, 0, canvas.width, canvas.height);\n",
    "            this.el.appendChild(canvas);\n",
    "\n",
    "            const fabricCanvas = new fabric.Canvas(canvas);\n",
    "\n",
    "            // Create a starting rect (useful to see something is working)\n",
    "            const shape = new fabric.Circle({\n",
    "                top : 100,\n",
    "                left : 100,\n",
    "                radius : 20,\n",
    "                fill : '#5BC8F7'\n",
    "            });\n",
    "\n",
    "            fabricCanvas.add(shape);\n",
    "            \n",
    "            // Create a list of objects to re-use\n",
    "            const shapes = [shape];\n",
    "            \n",
    "            // Set up our listener\n",
    "            const onStateChanged = this.handleStateChanged.bind(this, fabricCanvas, shapes);\n",
    "            this.model.on('change:state', onStateChanged);\n",
    "        },\n",
    "        \n",
    "        handleStateChanged: function(fabricCanvas, shapes) {\n",
    "            const vals = this.model.get('state').values;\n",
    "            \n",
    "            for (let i=0; i < vals.length; i++) {\n",
    "                let shape;\n",
    "                // Create a new shape if our list of vals has increased in length\n",
    "                if (shapes[i] === undefined) {\n",
    "                    shape = new fabric.Circle({\n",
    "                        top : 100,\n",
    "                        left : 100,\n",
    "                        radius : 20,\n",
    "                        fill : '#F6C7BE'\n",
    "                    });\n",
    "                    fabricCanvas.add(shape);\n",
    "                    shapes.push(shape);\n",
    "                } else {\n",
    "                    shape = shapes[i];\n",
    "                }\n",
    "                // Update the shape to the correct location\n",
    "                const top = vals[i];\n",
    "                const left = 500 - (i * (shape.radius * 3));\n",
    "                shape.set({\n",
    "                    top,\n",
    "                    left\n",
    "                });\n",
    "                \n",
    "            }\n",
    "            \n",
    "            // Render all rects;\n",
    "            fabricCanvas.renderAll();\n",
    "        }\n",
    "    });\n",
    "\n",
    "    return {\n",
    "        Display\n",
    "    };\n",
    "});"
   ]
  },
  {
   "cell_type": "code",
   "execution_count": 3,
   "metadata": {},
   "outputs": [],
   "source": [
    "# Instantiate the Python widget.\n",
    "display = Display()"
   ]
  },
  {
   "cell_type": "code",
   "execution_count": 4,
   "metadata": {},
   "outputs": [
    {
     "data": {
      "application/vnd.jupyter.widget-view+json": {
       "model_id": "b78b4b46a9184a8d82df59ad0513f739",
       "version_major": 2,
       "version_minor": 0
      },
      "text/plain": [
       "Display(state={'values': []})"
      ]
     },
     "metadata": {},
     "output_type": "display_data"
    }
   ],
   "source": [
    "# Invoke the __repr__() of the widget which actually causes the JavaScript widget to be drawn.\n",
    "display"
   ]
  },
  {
   "cell_type": "code",
   "execution_count": 5,
   "metadata": {},
   "outputs": [
    {
     "ename": "KeyboardInterrupt",
     "evalue": "",
     "output_type": "error",
     "traceback": [
      "\u001b[1;31m---------------------------------------------------------------------------\u001b[0m",
      "\u001b[1;31mKeyboardInterrupt\u001b[0m                         Traceback (most recent call last)",
      "\u001b[1;32m<ipython-input-5-62344309db4c>\u001b[0m in \u001b[0;36m<module>\u001b[1;34m()\u001b[0m\n\u001b[0;32m     13\u001b[0m     \u001b[0mdisplay\u001b[0m\u001b[1;33m.\u001b[0m\u001b[0mstate\u001b[0m \u001b[1;33m=\u001b[0m \u001b[0mnew_state\u001b[0m\u001b[1;33m\u001b[0m\u001b[0m\n\u001b[0;32m     14\u001b[0m     \u001b[0mi\u001b[0m \u001b[1;33m+=\u001b[0m \u001b[1;36m0.05\u001b[0m\u001b[1;33m\u001b[0m\u001b[0m\n\u001b[1;32m---> 15\u001b[1;33m     \u001b[0msleep\u001b[0m\u001b[1;33m(\u001b[0m\u001b[1;36m0.02\u001b[0m\u001b[1;33m)\u001b[0m\u001b[1;33m\u001b[0m\u001b[0m\n\u001b[0m",
      "\u001b[1;31mKeyboardInterrupt\u001b[0m: "
     ]
    }
   ],
   "source": [
    "# Add some new values to our state and watch our display update live!\n",
    "import math\n",
    "from time import sleep\n",
    "from collections import deque\n",
    "\n",
    "i = 0\n",
    "q = deque(maxlen=9)\n",
    "while True:\n",
    "    new_state = display.state.copy()\n",
    "    new_val = (math.sin(i) + 1) * 200\n",
    "    q.appendleft(new_val)\n",
    "    new_state['values'] = list(q)\n",
    "    display.state = new_state\n",
    "    i += 0.05\n",
    "    sleep(0.02)"
   ]
  },
  {
   "cell_type": "markdown",
   "metadata": {},
   "source": [
    "# Full Puzzle\n",
    "\n",
    "https://miro.com/app/board/o9J_kwPmu2M=/\n",
    "\n",
    "Set Point -> Value -> Error -> Perception -> Controller -> Feedback -> Control Element Action\n",
    "\n",
    "observation ->\n"
   ]
  },
  {
   "cell_type": "markdown",
   "metadata": {},
   "source": [
    "# Evolve a controller\n",
    "\n",
    "We want to use either an Evolution Strategies (ES) or Genetic Algorithm (GA) approach to create a controller for a continuous dynamic process."
   ]
  },
  {
   "cell_type": "markdown",
   "metadata": {},
   "source": [
    "# Citations\n",
    "\n",
    "## Paper Links\n",
    "\n",
    "\"Another distinguishing feature of drives are their homeostatic nature. For animals to survive, they must maintain a variety of critical parameters (such as temperature, energy level, amount of fluids, etc.) within a bounded range. As such, the drives keep changing in intensity to reflect the ongoing needs of the robot and the urgency for tending to them.  There is a desired operational point for each drive and an acceptable bounds of operation around that point.  We call this range the homeostatic regime. As long as a drive is within the homeostatic regime, the robot’s “needs” are being adequately met.\"\n",
    "\n",
    "http://robotic.media.mit.edu/wp-content/uploads/sites/7/2015/01/Breazeal-AAAI-98.pdf\n",
    "\n",
    "\n",
    "Figure 1\n",
    "\n",
    "https://www.researchgate.net/profile/Oscar_Deniz/publication/228709943_A_Proposal_of_a_Homeostatic_Regulation_Mechanism_for_a_Vision_System/links/5419ded50cf25ebee98882c9/A-Proposal-of-a-Homeostatic-Regulation-Mechanism-for-a-Vision-System.pdf\n",
    "\n",
    "Figure 2\n",
    "\n",
    "https://ieeexplore.ieee.org/document/8408296\n",
    "\n",
    "## Web Links (Need to Find Papers)\n",
    "\n",
    "\"To survive, animals must maintain certain critical parameters within a bounded range. For instance, an animal must regulate its temperature, energy level, amount of fluids, etc. Maintaining each critical parameter requires that the animal come into contact with the corresponding satiatory stimulus (shelter, food, water, etc.) at the right time. The process by which these critical parameters are maintained is generally referred to as homeostatic regulation.\n",
    "\n",
    "In a simplified view, each satiatory stimulus can be thought of as an innately specified need. In broad terms, there is a desired fixed point of operation for each parameter, and an allowable bounds of operation around that point (see figure). As the critical parameter moves away from the desired point of operation, the animal becomes more strongly motivated to behave in ways that will restore that parameter. The physiological mechanisms that serve to regulate these needs, driving the animal into contact with the needed stimulus at the appropriate time, are quite complex and distinct.\"\n",
    "\n",
    "http://www.ai.mit.edu/projects/sociable/homeostatic-regulation.html"
   ]
  },
  {
   "cell_type": "code",
   "execution_count": null,
   "metadata": {},
   "outputs": [],
   "source": []
  }
 ],
 "metadata": {
  "kernelspec": {
   "display_name": "Python 3",
   "language": "python",
   "name": "python3"
  },
  "language_info": {
   "codemirror_mode": {
    "name": "ipython",
    "version": 3
   },
   "file_extension": ".py",
   "mimetype": "text/x-python",
   "name": "python",
   "nbconvert_exporter": "python",
   "pygments_lexer": "ipython3",
   "version": "3.6.5"
  }
 },
 "nbformat": 4,
 "nbformat_minor": 2
}
